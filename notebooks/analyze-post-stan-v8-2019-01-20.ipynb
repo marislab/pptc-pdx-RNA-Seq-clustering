{
 "cells": [
  {
   "cell_type": "code",
   "execution_count": null,
   "metadata": {},
   "outputs": [],
   "source": [
    "import os\n",
    "import numpy as np\n",
    "import pandas as pd\n",
    "import pickle"
   ]
  },
  {
   "cell_type": "code",
   "execution_count": null,
   "metadata": {},
   "outputs": [],
   "source": [
    "data_dir = \"\""
   ]
  },
  {
   "cell_type": "markdown",
   "metadata": {},
   "source": [
    "```cat stan-data-v8.output | grep -m 1 lp__ | tr ',' '\\n' | cat -n | grep -P \"d\\.\" | cut -f 1 > stan-data-v8-columns```\n",
    "\n",
    "```cat stan-data-v8.output | grep -v \"#\" | cut -d ',' -f <start>-<stop> > stan-data-v8.disease_effect```"
   ]
  },
  {
   "cell_type": "code",
   "execution_count": null,
   "metadata": {},
   "outputs": [],
   "source": [
    "# Load in a processed stan output file where only columns that \n",
    "# start with d\\. are included. The data file is too large otherwise.\n",
    "pth = os.path.join(data_dir, 'stan-data-v8-2019-01-20.disease_effect.hd5')\n",
    "df = pd.read_hdf(pth, key='data')"
   ]
  },
  {
   "cell_type": "code",
   "execution_count": null,
   "metadata": {},
   "outputs": [],
   "source": [
    "# Read in the mapping to the original gene ids etc.\n",
    "pth = os.path.join(data_dir, 'stan-data-v8-map-2019-01-20.pkl')\n",
    "with open(pth, 'rb') as f:\n",
    "    stan_map = pickle.load(f)"
   ]
  },
  {
   "cell_type": "code",
   "execution_count": null,
   "metadata": {},
   "outputs": [],
   "source": [
    "# Remove columns that are not disease specific\n",
    "deffects = df.filter(regex=\"d\\.\\d*\\.\\d*\")\n",
    "\n",
    "# Delete the original df to save memory\n",
    "del df"
   ]
  },
  {
   "cell_type": "code",
   "execution_count": null,
   "metadata": {},
   "outputs": [],
   "source": [
    "# Take the mean and standard deviation \n",
    "# from the posterior distributions\n",
    "means = deffects.mean(axis=0)\n",
    "stds = deffects.std(axis=0)"
   ]
  },
  {
   "cell_type": "code",
   "execution_count": null,
   "metadata": {},
   "outputs": [],
   "source": [
    "# Map Ensembl IDs to Hugo IDs\n",
    "pth = os.path.join(data_dir, 'EnsGeneID_Hugo_Observed_Conversions.txt')\n",
    "ens_to_hugo = {}\n",
    "with open(pth) as f:\n",
    "    for line in f:\n",
    "        h, e = line.strip().split('\\t')\n",
    "        ens_to_hugo[e] = h"
   ]
  },
  {
   "cell_type": "code",
   "execution_count": null,
   "metadata": {},
   "outputs": [],
   "source": [
    "stan_map"
   ]
  },
  {
   "cell_type": "code",
   "execution_count": null,
   "metadata": {},
   "outputs": [],
   "source": [
    "# Convienence function for organizing data\n",
    "def grab_data(effect, stan_map, means, stds, hugo_map):\n",
    "    _, disease, gene = effect.split('.')\n",
    "    disease = stan_map['disease'][int(disease)]\n",
    "    gene = stan_map['gene'][int(gene)]\n",
    "    hugo = gene\n",
    "    _mean = means[effect]\n",
    "    _std = stds[effect]\n",
    "    return disease, gene, _mean, _std, hugo"
   ]
  },
  {
   "cell_type": "code",
   "execution_count": null,
   "metadata": {},
   "outputs": [],
   "source": [
    "from multiprocessing import Pool\n",
    "\n",
    "def helper(args):\n",
    "    return grab_data(*args)\n",
    "\n",
    "pool = Pool(8)\n",
    "_input = [(x, stan_map, means, stds, ens_to_hugo,) for x in means.index.values]\n",
    "outs = pool.map_async(helper, _input)\n",
    "res = pd.DataFrame(columns = ['disease', 'gene', 'effect', 'error', 'hugo'],\n",
    "                   data=outs.get())"
   ]
  },
  {
   "cell_type": "code",
   "execution_count": null,
   "metadata": {},
   "outputs": [],
   "source": [
    "res"
   ]
  },
  {
   "cell_type": "code",
   "execution_count": null,
   "metadata": {},
   "outputs": [],
   "source": [
    "pth = os.path.join(data_dir, 'post-stan-v8-results-2019-01-20.hd5')\n",
    "res.to_hdf(pth, key='results')"
   ]
  },
  {
   "cell_type": "code",
   "execution_count": null,
   "metadata": {},
   "outputs": [],
   "source": []
  }
 ],
 "metadata": {
  "kernelspec": {
   "display_name": "Python 2",
   "language": "python",
   "name": "python2"
  },
  "language_info": {
   "codemirror_mode": {
    "name": "ipython",
    "version": 2
   },
   "file_extension": ".py",
   "mimetype": "text/x-python",
   "name": "python",
   "nbconvert_exporter": "python",
   "pygments_lexer": "ipython2",
   "version": "2.7.15"
  }
 },
 "nbformat": 4,
 "nbformat_minor": 2
}
