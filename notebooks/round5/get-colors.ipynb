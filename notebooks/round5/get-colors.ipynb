{
 "cells": [
  {
   "cell_type": "code",
   "execution_count": 4,
   "metadata": {},
   "outputs": [],
   "source": [
    "colors = {\"Fusion+ RMS\" :\"#E8C51D\",\n",
    "            \"Fusion+_RMS\" :\"#E8C51D\",\n",
    "            \"Astrocytoma\" :\"#ED2891\",\n",
    "            \"ATRT\" :\"#000000\",\n",
    "            \"BCP-ALL\" :\"#97D1A9\",\n",
    "            \"CNS germinoma\" :\"#00A99D\",\n",
    "            \"CNS_germinoma\" :\"#00A99D\",\n",
    "            \"CNS EFT-CIC\" : \"#7E1918\",\n",
    "            \"CNS_EFT-CIC\" : \"#7E1918\",\n",
    "            \"Colon Carcinoma\" :\"#F89420\",\n",
    "            \"Colon_Carcinoma\" :\"#F89420\",\n",
    "            \"DIPG\" : \"#A084BD\",\n",
    "            \"Fusion- RMS\" : \"#00AEEF\",\n",
    "            \"Fusion-_RMS\" : \"#00AEEF\",\n",
    "            \"Ependymoblastoma\" : \"#D97D25\",\n",
    "            \"Ependymoma\" :\"#C1A72F\",\n",
    "            \"ETP-ALL\" :\"#754C29\",\n",
    "            \"ETMR\" : \"#CACCDB\",\n",
    "            \"Ewing Sarcoma\" :\"#542C88\",\n",
    "            \"Ewing_Sarcoma\" :\"#542C88\",\n",
    "            \"Glioblastoma\" :\"#B2509E\",\n",
    "            \"ASPS\"\t: \"#DAF1FC\",\n",
    "            \"Medulloblastoma\" :\"#D49DC7\",\n",
    "            \"MLL-ALL\"\t: \"#009444\",\n",
    "            \"Neuroblastoma\" :\"#EA7075\",\n",
    "            \"Osteosarcoma\" :\"#6E7BA2\",\n",
    "            \"Hepatoblastoma\" :\"#104A7F\",\n",
    "            \"Clear Cell Sarcoma\" :\"#F6B667\",\n",
    "            \"Clear_Cell_Sarcoma\" :\"#F6B667\",\n",
    "            \"Ph+-ALL\" :\"#3953A4\",\n",
    "            \"Ph-likeALL\" :\"#BE1E2D\",\n",
    "            \"CNS embryonal NOS\" : \"#F9ED32\",\n",
    "            \"CNS_embryonal_NOS\" : \"#F9ED32\",\n",
    "            \"Extracranial Rhabdoid\" :\"#9EDDF9\",\n",
    "            \"Extracranial_Rhabdoid\" :\"#9EDDF9\",\n",
    "            \"Small Cell Carcinoma\" :\"#D3C3E0\",\n",
    "            \"Small_Cell_Carcinoma\" :\"#D3C3E0\",\n",
    "            \"T-ALL\" :\"#CEAC8F\",\n",
    "            \"Wilms\" :\"#007EB5\"}"
   ]
  },
  {
   "cell_type": "code",
   "execution_count": 6,
   "metadata": {},
   "outputs": [
    {
     "name": "stdout",
     "output_type": "stream",
     "text": [
      "ASPS #DAF1FC\n",
      "ATRT #000000\n",
      "Astrocytoma #ED2891\n",
      "BCP-ALL #97D1A9\n",
      "CNS EFT-CIC #7E1918\n",
      "CNS embryonal NOS #F9ED32\n",
      "CNS germinoma #00A99D\n",
      "CNS_EFT-CIC #7E1918\n",
      "CNS_embryonal_NOS #F9ED32\n",
      "CNS_germinoma #00A99D\n",
      "Clear Cell Sarcoma #F6B667\n",
      "Clear_Cell_Sarcoma #F6B667\n",
      "Colon Carcinoma #F89420\n",
      "Colon_Carcinoma #F89420\n",
      "DIPG #A084BD\n",
      "ETMR #CACCDB\n",
      "ETP-ALL #754C29\n",
      "Ependymoblastoma #D97D25\n",
      "Ependymoma #C1A72F\n",
      "Ewing Sarcoma #542C88\n",
      "Ewing_Sarcoma #542C88\n",
      "Extracranial Rhabdoid #9EDDF9\n",
      "Extracranial_Rhabdoid #9EDDF9\n",
      "Fusion+ RMS #E8C51D\n",
      "Fusion+_RMS #E8C51D\n",
      "Fusion- RMS #00AEEF\n",
      "Fusion-_RMS #00AEEF\n",
      "Glioblastoma #B2509E\n",
      "Hepatoblastoma #104A7F\n",
      "MLL-ALL #009444\n",
      "Medulloblastoma #D49DC7\n",
      "Neuroblastoma #EA7075\n",
      "Osteosarcoma #6E7BA2\n",
      "Ph+-ALL #3953A4\n",
      "Ph-likeALL #BE1E2D\n",
      "Small Cell Carcinoma #D3C3E0\n",
      "Small_Cell_Carcinoma #D3C3E0\n",
      "T-ALL #CEAC8F\n",
      "Wilms #007EB5\n"
     ]
    }
   ],
   "source": [
    "for d in sorted(list(colors.keys())):\n",
    "    print(d, colors[d])"
   ]
  },
  {
   "cell_type": "code",
   "execution_count": null,
   "metadata": {},
   "outputs": [],
   "source": []
  }
 ],
 "metadata": {
  "kernelspec": {
   "display_name": "Python 3",
   "language": "python",
   "name": "python3"
  },
  "language_info": {
   "codemirror_mode": {
    "name": "ipython",
    "version": 3
   },
   "file_extension": ".py",
   "mimetype": "text/x-python",
   "name": "python",
   "nbconvert_exporter": "python",
   "pygments_lexer": "ipython3",
   "version": "3.7.3"
  }
 },
 "nbformat": 4,
 "nbformat_minor": 2
}
