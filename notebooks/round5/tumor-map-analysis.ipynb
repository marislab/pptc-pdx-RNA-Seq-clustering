{
 "cells": [
  {
   "cell_type": "code",
   "execution_count": 7,
   "metadata": {},
   "outputs": [],
   "source": [
    "import pandas as pd\n",
    "import os"
   ]
  },
  {
   "cell_type": "code",
   "execution_count": 8,
   "metadata": {},
   "outputs": [],
   "source": [
    "nbl = \"\"\"\n",
    "COG-N-623x\n",
    "COG-N-590x\n",
    "NCH-NB-1\n",
    "COG-N-589x\n",
    "COG-N-625x\n",
    "COG-N-619x\n",
    "COG-N-620x\n",
    "COG-N-603x\n",
    "\"\"\".strip().split('\\n')"
   ]
  },
  {
   "cell_type": "code",
   "execution_count": 9,
   "metadata": {},
   "outputs": [],
   "source": [
    "data_dir = '/home/jpfeil/treehouse/maris/pdx/data'"
   ]
  },
  {
   "cell_type": "code",
   "execution_count": 10,
   "metadata": {},
   "outputs": [],
   "source": [
    "pth = os.path.join(data_dir, '2018-12-28-pdx-clinical-final-for-paper.txt')\n",
    "\n",
    "pdx_clinical = pd.read_csv(pth, sep='\\t')\n",
    "\n",
    "# Only consider models that are part of the PPTC\n",
    "pdx_clinical = pdx_clinical[pdx_clinical['RNA Part of PPTC'] == 'yes']"
   ]
  },
  {
   "cell_type": "code",
   "execution_count": 14,
   "metadata": {},
   "outputs": [
    {
     "data": {
      "text/plain": [
       "Counter({'MYCN Amp': 3, 'Non-MYCN Amp': 5})"
      ]
     },
     "execution_count": 14,
     "metadata": {},
     "output_type": "execute_result"
    }
   ],
   "source": [
    "import collections\n",
    "\n",
    "out = pdx_clinical[pdx_clinical['Model'].isin(nbl)]\n",
    "\n",
    "out_count = collections.Counter(out['Histopathology'].values)\n",
    "\n",
    "out_count"
   ]
  },
  {
   "cell_type": "code",
   "execution_count": 15,
   "metadata": {},
   "outputs": [
    {
     "data": {
      "text/plain": [
       "Counter({'MYCN Amp': 18,\n",
       "         'MYCN Amp by pathology, not by genetics': 1,\n",
       "         'Non-MYCN Amp': 6})"
      ]
     },
     "execution_count": 15,
     "metadata": {},
     "output_type": "execute_result"
    }
   ],
   "source": [
    "mask = (~pdx_clinical['Model'].isin(nbl)) & (pdx_clinical['Histology-Detailed'] == 'Neuroblastoma')\n",
    "\n",
    "_in = pdx_clinical[mask]\n",
    "\n",
    "_in_count = collections.Counter(_in['Histopathology'].values)\n",
    "\n",
    "_in_count"
   ]
  },
  {
   "cell_type": "code",
   "execution_count": 25,
   "metadata": {},
   "outputs": [
    {
     "name": "stdout",
     "output_type": "stream",
     "text": [
      "[[ 6. 19.]\n",
      " [ 5.  3.]]\n"
     ]
    },
    {
     "data": {
      "text/plain": [
       "0.08249669623418239"
      ]
     },
     "execution_count": 25,
     "metadata": {},
     "output_type": "execute_result"
    }
   ],
   "source": [
    "import numpy as np\n",
    "from rpy2.robjects import r, Matrix, globalenv, pandas2ri\n",
    "from rpy2.robjects.packages import importr\n",
    "import rpy2.robjects.numpy2ri\n",
    "import warnings \n",
    "warnings.filterwarnings(\"ignore\")\n",
    "    \n",
    "rpy2.robjects.r['options'](warn=-1)\n",
    "    \n",
    "rpy2.robjects.numpy2ri.activate()\n",
    "\n",
    "base = importr('base')\n",
    "stats = importr('stats')\n",
    "\n",
    "m = np.zeros((2, 2))\n",
    "\n",
    "m[0, 0] = _in_count['Non-MYCN Amp']\n",
    "m[0, 1] = _in_count['MYCN Amp'] + _in_count['MYCN Amp by pathology, not by genetics']\n",
    "\n",
    "m[1, 0] = out_count['Non-MYCN Amp']\n",
    "m[1, 1] = out_count['MYCN Amp']\n",
    "\n",
    "print m\n",
    "\n",
    "stats.fisher_test(m)[0][0]"
   ]
  },
  {
   "cell_type": "code",
   "execution_count": null,
   "metadata": {},
   "outputs": [],
   "source": []
  }
 ],
 "metadata": {
  "kernelspec": {
   "display_name": "Python 3",
   "language": "python",
   "name": "python3"
  },
  "language_info": {
   "codemirror_mode": {
    "name": "ipython",
    "version": 3
   },
   "file_extension": ".py",
   "mimetype": "text/x-python",
   "name": "python",
   "nbconvert_exporter": "python",
   "pygments_lexer": "ipython3",
   "version": "3.7.3"
  }
 },
 "nbformat": 4,
 "nbformat_minor": 2
}
