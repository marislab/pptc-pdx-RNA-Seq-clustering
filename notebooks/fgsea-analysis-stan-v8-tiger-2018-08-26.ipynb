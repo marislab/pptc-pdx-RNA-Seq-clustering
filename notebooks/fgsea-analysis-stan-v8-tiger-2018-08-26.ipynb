{
 "cells": [
  {
   "cell_type": "code",
   "execution_count": null,
   "metadata": {},
   "outputs": [],
   "source": [
    "import pandas as pd\n",
    "import os\n",
    "import subprocess\n",
    "import seaborn as sns\n",
    "import numpy as np\n",
    "import matplotlib.pyplot as plt"
   ]
  },
  {
   "cell_type": "code",
   "execution_count": null,
   "metadata": {},
   "outputs": [],
   "source": [
    "data_dir = \"\""
   ]
  },
  {
   "cell_type": "code",
   "execution_count": null,
   "metadata": {},
   "outputs": [],
   "source": [
    "# Read in the posterior estimates of the disease specific mean \n",
    "# differences and standard deviations.\n",
    "pth = os.path.join(data_dir, 'post-stan-v8-results-2019-01-20.hd5')\n",
    "res = pd.read_hdf(pth, key='results')"
   ]
  },
  {
   "cell_type": "code",
   "execution_count": null,
   "metadata": {},
   "outputs": [],
   "source": [
    "pth = '2018-12-28-pdx-clinical-final-for-paper.txt'\n",
    "\n",
    "pdx_clinical = pd.read_csv(pth, sep='\\t')\n",
    "\n",
    "#pdx_clinical = pdx_clinical[pdx_clinical['Histology'].isin(hists)]\n",
    "pdx_clinical = pdx_clinical[pdx_clinical['RNA Part of PPTC'] == 'yes']"
   ]
  },
  {
   "cell_type": "code",
   "execution_count": null,
   "metadata": {},
   "outputs": [],
   "source": [
    "hist_drops = []\n",
    "_low_num = (pdx_clinical.groupby('Histology-Detailed').count() <= 2).any(axis=1)\n",
    "for hist, is_low in _low_num.iteritems():\n",
    "    if is_low == True:\n",
    "        hist_drops.append(hist)"
   ]
  },
  {
   "cell_type": "code",
   "execution_count": null,
   "metadata": {
    "scrolled": true
   },
   "outputs": [],
   "source": [
    "cmd = \"\"\"\n",
    "Rscript\n",
    "fastgsea-no-min.R\n",
    "filtered-tiger-tissgdb-gene-sets.gmt\n",
    "/tmp/fgsea-analysis-stan-res.rnk\n",
    "/tmp/fgsea-analysis-stan-res.fgsea\n",
    "\"\"\".strip().split('\\n')\n",
    "\n",
    "fgseas = {}\n",
    "for disease, _res in res.groupby('disease'):\n",
    "    # Filter out small effects\n",
    "    _res['abs-effect'] = _res['effect'].abs()\n",
    "    _res.sort_values('abs-effect', ascending=False, inplace=True)\n",
    "    _res.drop_duplicates('hugo', keep='first', inplace=True)\n",
    "    _res.sort_values('effect', ascending=False, inplace=True)\n",
    "    _res[['hugo', 'effect']].to_csv('/tmp/fgsea-analysis-stan-res.rnk',\n",
    "                                     header=None,\n",
    "                                     sep='\\t',\n",
    "                                     index=False)\n",
    "    \n",
    "    subprocess.check_call(cmd)\n",
    "    \n",
    "    fgsea = pd.read_csv('/tmp/fgsea-analysis-stan-res.fgsea')\n",
    "    \n",
    "    fgseas[disease] = fgsea\n",
    "    \n",
    "    os.remove('/tmp/fgsea-analysis-stan-res.rnk')\n",
    "    os.remove('/tmp/fgsea-analysis-stan-res.fgsea')"
   ]
  },
  {
   "cell_type": "code",
   "execution_count": null,
   "metadata": {},
   "outputs": [],
   "source": [
    "# Obtain the set of all significantly enriched tissue gene sets. \n",
    "# The threshold for significants is an adjustest p-value less than\n",
    "# 0.01 and a normalized enrichment greater than 2.\n",
    "\n",
    "alpha = 0.01\n",
    "sig_gss = set()\n",
    "for disease, fgsea in fgseas.items():\n",
    "    mask = (fgsea['padj'] < alpha) & (fgsea['NES'] > 2.0)\n",
    "    _sigs = fgsea[mask]\n",
    "    sig_gss.update(list(_sigs['pathway'].values))\n",
    "    \n",
    "sig_gss"
   ]
  },
  {
   "cell_type": "code",
   "execution_count": null,
   "metadata": {},
   "outputs": [],
   "source": [
    "# Iterate over the fgsea results and \n",
    "# pull out all of the statistically significant \n",
    "# enrichment scores across all PDX diseases.\n",
    "\n",
    "gs_df = pd.DataFrame(index=list(fgseas.keys()), \n",
    "                     columns=list(sig_gss))\n",
    "for disease, fgsea in fgseas.items():\n",
    "    for gs in sig_gss:\n",
    "        # Raise an error if a sample has a NaN gene set enrichment score\n",
    "        if pd.isnull(fgsea.loc[fgsea['pathway'] == gs, 'NES']).any():\n",
    "            raise ValueError()\n",
    "            \n",
    "        # Raise an error if a sample is missing a gene set enrichment score\n",
    "        if fgsea.loc[fgsea['pathway'] == gs, 'NES'].shape == (0, ):\n",
    "            raise ValueError()\n",
    "            \n",
    "        # Raise an error if a sample has more than one enrichment score\n",
    "        if fgsea.loc[fgsea['pathway'] == gs, 'NES'].shape[0] > 1:\n",
    "            raise ValueError()\n",
    "        \n",
    "        \n",
    "        nes = fgsea.loc[fgsea['pathway'] == gs, 'NES'].item()\n",
    "        pvalue = fgsea.loc[fgsea['pathway'] == gs, 'padj'].item()\n",
    "        \n",
    "        # If an enrichment is statistically significant report it\n",
    "        # otherwise set the enrichment to zero.\n",
    "        if pvalue < alpha:\n",
    "            gs_df.loc[disease, gs] = nes\n",
    "            \n",
    "        else:\n",
    "            gs_df.loc[disease, gs] = 0.0\n",
    "\n",
    "# Set the columns to numeric for plotting\n",
    "for c in gs_df.columns:\n",
    "    gs_df[c] = pd.to_numeric(gs_df[c])"
   ]
  },
  {
   "cell_type": "code",
   "execution_count": null,
   "metadata": {
    "scrolled": false
   },
   "outputs": [],
   "source": [
    "cmap = sns.diverging_palette(240, 10, sep=100, n=9)\n",
    "\n",
    "sns.clustermap(gs_df.T,\n",
    "               cmap=cmap,\n",
    "               figsize=(10, 10),\n",
    "               method='ward',\n",
    "               vmin=-4.0,\n",
    "               vmax=4.0, \n",
    "               linewidths=1.0)\n",
    "\n",
    "pth = os.path.join(data_dir, 'fgsea-analysis-stan-v8-tiger-2019-01-20.svg')\n",
    "plt.savefig(pth, format='svg', bbox_inches='tight')"
   ]
  },
  {
   "cell_type": "code",
   "execution_count": null,
   "metadata": {},
   "outputs": [],
   "source": []
  }
 ],
 "metadata": {
  "kernelspec": {
   "display_name": "Python 2",
   "language": "python",
   "name": "python2"
  },
  "language_info": {
   "codemirror_mode": {
    "name": "ipython",
    "version": 2
   },
   "file_extension": ".py",
   "mimetype": "text/x-python",
   "name": "python",
   "nbconvert_exporter": "python",
   "pygments_lexer": "ipython2",
   "version": "2.7.15"
  }
 },
 "nbformat": 4,
 "nbformat_minor": 2
}
